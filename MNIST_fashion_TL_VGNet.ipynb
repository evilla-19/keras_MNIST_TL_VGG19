{
  "nbformat": 4,
  "nbformat_minor": 0,
  "metadata": {
    "colab": {
      "name": "MNIST_fashion_TL_VGNet.ipynb",
      "version": "0.3.2",
      "provenance": [],
      "include_colab_link": true
    },
    "kernelspec": {
      "name": "python3",
      "display_name": "Python 3"
    },
    "accelerator": "GPU"
  },
  "cells": [
    {
      "cell_type": "markdown",
      "metadata": {
        "id": "view-in-github",
        "colab_type": "text"
      },
      "source": [
        "<a href=\"https://colab.research.google.com/github/evilla-19/keras_MNIST_TL_VGG19/blob/master/MNIST_fashion_TL_VGNet.ipynb\" target=\"_parent\"><img src=\"https://colab.research.google.com/assets/colab-badge.svg\" alt=\"Open In Colab\"/></a>"
      ]
    },
    {
      "metadata": {
        "id": "-X3RIiZrxx7h",
        "colab_type": "text"
      },
      "cell_type": "markdown",
      "source": [
        "Following https://medium.com/nanonets/how-to-classify-fashion-images-easily-using-convnets-81e1e0019ffe and https://github.com/khanhnamle1994/fashion-mnist/blob/master/VGG19-GPU.ipynb"
      ]
    },
    {
      "metadata": {
        "id": "VtKRiElVxHj5",
        "colab_type": "code",
        "outputId": "dc07f038-26d1-41d3-a74a-cb8fdf573440",
        "colab": {
          "base_uri": "https://localhost:8080/",
          "height": 34
        }
      },
      "cell_type": "code",
      "source": [
        "import keras\n",
        "from keras.applications import VGG19\n",
        "from keras.applications.vgg19 import preprocess_input\n",
        "from keras.layers import Conv2D, MaxPooling2D, Dense, Flatten, Dropout\n",
        "from keras.models import Model, Sequential\n",
        "from keras import models\n",
        "from keras import layers\n",
        "from keras.optimizers import Adam\n",
        "from keras.callbacks import TensorBoard\n",
        "from keras.utils import to_categorical\n",
        "\n",
        "import numpy as np\n",
        "import pandas as pd\n",
        "import matplotlib.pyplot as plt\n",
        "from sklearn.model_selection import train_test_split\n",
        "\n"
      ],
      "execution_count": 0,
      "outputs": [
        {
          "output_type": "stream",
          "text": [
            "Using TensorFlow backend.\n"
          ],
          "name": "stderr"
        }
      ]
    },
    {
      "metadata": {
        "id": "h6g8HCSVcybJ",
        "colab_type": "code",
        "outputId": "b6f49134-e0eb-424a-df64-ce3dac1a92e1",
        "colab": {
          "base_uri": "https://localhost:8080/",
          "height": 208
        }
      },
      "cell_type": "code",
      "source": [
        "# set-up to upload from google drive, part 2\n",
        "import os\n",
        "!pip3 install pydrive\n",
        "from pydrive.auth import GoogleAuth\n",
        "from pydrive.drive import GoogleDrive\n",
        "from google.colab import auth\n",
        "from oauth2client.client import GoogleCredentials\n",
        "# set-up to upload from google drive, part 3\n",
        "auth.authenticate_user()\n",
        "gauth = GoogleAuth()\n",
        "gauth.credentials = GoogleCredentials.get_application_default()\n",
        "drive = GoogleDrive(gauth)"
      ],
      "execution_count": 0,
      "outputs": [
        {
          "output_type": "stream",
          "text": [
            "Requirement already satisfied: pydrive in /usr/local/lib/python3.6/dist-packages (1.3.1)\n",
            "Requirement already satisfied: PyYAML>=3.0 in /usr/local/lib/python3.6/dist-packages (from pydrive) (3.13)\n",
            "Requirement already satisfied: oauth2client>=4.0.0 in /usr/local/lib/python3.6/dist-packages (from pydrive) (4.1.3)\n",
            "Requirement already satisfied: google-api-python-client>=1.2 in /usr/local/lib/python3.6/dist-packages (from pydrive) (1.6.7)\n",
            "Requirement already satisfied: httplib2>=0.9.1 in /usr/local/lib/python3.6/dist-packages (from oauth2client>=4.0.0->pydrive) (0.11.3)\n",
            "Requirement already satisfied: pyasn1-modules>=0.0.5 in /usr/local/lib/python3.6/dist-packages (from oauth2client>=4.0.0->pydrive) (0.2.4)\n",
            "Requirement already satisfied: rsa>=3.1.4 in /usr/local/lib/python3.6/dist-packages (from oauth2client>=4.0.0->pydrive) (4.0)\n",
            "Requirement already satisfied: pyasn1>=0.1.7 in /usr/local/lib/python3.6/dist-packages (from oauth2client>=4.0.0->pydrive) (0.4.5)\n",
            "Requirement already satisfied: six>=1.6.1 in /usr/local/lib/python3.6/dist-packages (from oauth2client>=4.0.0->pydrive) (1.11.0)\n",
            "Requirement already satisfied: uritemplate<4dev,>=3.0.0 in /usr/local/lib/python3.6/dist-packages (from google-api-python-client>=1.2->pydrive) (3.0.0)\n"
          ],
          "name": "stdout"
        }
      ]
    },
    {
      "metadata": {
        "id": "nYPQ2e1fcydR",
        "colab_type": "code",
        "outputId": "eb53ce1a-c309-4335-c9c8-501ed2fee3ef",
        "colab": {
          "base_uri": "https://localhost:8080/",
          "height": 51
        }
      },
      "cell_type": "code",
      "source": [
        "# actually get the files\n",
        "!mkdir /content/inputData\n",
        "%cd /content/inputData\n",
        "download = drive.CreateFile({'id': '1TKQb-Ayc1W5aEA-sKYKPcexOwDntyDgZ'})\n",
        "download.GetContentFile('fashion-mnist_test.csv')\n",
        "download = drive.CreateFile({'id': '13Pye-aQ9chnOTo_dBWGha9zG2IuZq_yQ'})\n",
        "download.GetContentFile('fashion-mnist_train.csv')"
      ],
      "execution_count": 0,
      "outputs": [
        {
          "output_type": "stream",
          "text": [
            "mkdir: cannot create directory ‘/content/inputData’: File exists\n",
            "/content/inputData\n"
          ],
          "name": "stdout"
        }
      ]
    },
    {
      "metadata": {
        "id": "5NuLAOZjcyfp",
        "colab_type": "code",
        "outputId": "9a3a1864-178c-4d11-8916-8e4e88f972b6",
        "colab": {
          "base_uri": "https://localhost:8080/",
          "height": 34
        }
      },
      "cell_type": "code",
      "source": [
        "# split the training and testing data into X (image) and Y (label) arrays\n",
        "\n",
        "%cd /content/inputData\n",
        "\n",
        "train_df = pd.read_csv(r'fashion-mnist_train.csv')\n",
        "test_df = pd.read_csv(r'fashion-mnist_test.csv')\n",
        "\n",
        "train_data = np.array(train_df, dtype='float32')\n",
        "test_data = np.array(test_df, dtype='float32')\n",
        "\n",
        "x_train = train_data[:, 1:]\n",
        "y_train = train_data[:, 0]\n",
        "\n",
        "x_test = test_data[:, 1:]\n",
        "y_test = test_data[:, 0]\n",
        "\n",
        "y_test = to_categorical(y_test)\n",
        "y_train = to_categorical(y_train)\n"
      ],
      "execution_count": 0,
      "outputs": [
        {
          "output_type": "stream",
          "text": [
            "/content/inputData\n"
          ],
          "name": "stdout"
        }
      ]
    },
    {
      "metadata": {
        "id": "bE40u9tWoQtQ",
        "colab_type": "code",
        "colab": {}
      },
      "cell_type": "code",
      "source": [
        "# Reduce input size because else I run out of RAM memory \n",
        "x_train = x_train[0:10000, :]\n",
        "x_test = x_test[0:1000, :]\n",
        "\n",
        "y_train = y_train[0:10000 ,:]\n",
        "y_test = y_test[0:1000, :]"
      ],
      "execution_count": 0,
      "outputs": []
    },
    {
      "metadata": {
        "id": "_SHT9nG6Q0jP",
        "colab_type": "code",
        "outputId": "29645206-a7b1-45ed-ae03-d28c413510bc",
        "colab": {
          "base_uri": "https://localhost:8080/",
          "height": 34
        }
      },
      "cell_type": "code",
      "source": [
        "x_test.shape"
      ],
      "execution_count": 0,
      "outputs": [
        {
          "output_type": "execute_result",
          "data": {
            "text/plain": [
              "(999, 150, 150, 3)"
            ]
          },
          "metadata": {
            "tags": []
          },
          "execution_count": 29
        }
      ]
    },
    {
      "metadata": {
        "id": "aB7uTv_G6q_6",
        "colab_type": "code",
        "outputId": "3c2defd8-12f9-4c41-a8ec-159a158fbe01",
        "colab": {
          "base_uri": "https://localhost:8080/",
          "height": 34
        }
      },
      "cell_type": "code",
      "source": [
        "# reduce the amount of training data because otherwise the session crashes\n",
        "# x_train = x_train[0:5000,:]\n",
        "# x_test = x_test[0:1000,:]\n",
        "# y_train = y_train[0:5000]\n",
        "# y_test = y_test[0:1000]\n",
        "\n",
        "# Convert the training and test images into 3 channels\n",
        "x_train = np.dstack([x_train] * 3)\n",
        "x_test = np.dstack([x_test]*3)\n",
        "\n",
        "# Display their new shapes\n",
        "x_train.shape, x_test.shape\n",
        "\n"
      ],
      "execution_count": 0,
      "outputs": [
        {
          "output_type": "execute_result",
          "data": {
            "text/plain": [
              "((10000, 784, 3), (1000, 784, 3))"
            ]
          },
          "metadata": {
            "tags": []
          },
          "execution_count": 6
        }
      ]
    },
    {
      "metadata": {
        "id": "Qube55yv0enQ",
        "colab_type": "code",
        "outputId": "5704fcd3-832c-4324-b460-ce324a6aa201",
        "colab": {
          "base_uri": "https://localhost:8080/",
          "height": 34
        }
      },
      "cell_type": "code",
      "source": [
        "# Reshape images as per the tensor format required by tensorflow\n",
        "x_train = x_train.reshape(-1, 28,28,3)\n",
        "x_test= x_test.reshape (-1,28,28,3)\n",
        "\n",
        "# Display the new shape\n",
        "x_train.shape, x_test.shape"
      ],
      "execution_count": 0,
      "outputs": [
        {
          "output_type": "execute_result",
          "data": {
            "text/plain": [
              "((10000, 28, 28, 3), (1000, 28, 28, 3))"
            ]
          },
          "metadata": {
            "tags": []
          },
          "execution_count": 7
        }
      ]
    },
    {
      "metadata": {
        "id": "pXQQ5itR0e3O",
        "colab_type": "code",
        "outputId": "83f9cbba-e527-411e-cac6-91eb74cd7c26",
        "colab": {
          "base_uri": "https://localhost:8080/",
          "height": 34
        }
      },
      "cell_type": "code",
      "source": [
        "# Resize the images as 150 * 150 as required by VGG19\n",
        "from keras.preprocessing.image import img_to_array, array_to_img\n",
        "\n",
        "\n",
        "x_train = np.asarray([img_to_array(array_to_img(im, scale=False).resize((150,150))) for im in x_train])\n",
        "x_test = np.asarray([img_to_array(array_to_img(im, scale=False).resize((150,150))) for im in x_test])\n",
        "\n",
        "# Display the new shape\n",
        "x_train.shape, x_test.shape"
      ],
      "execution_count": 0,
      "outputs": [
        {
          "output_type": "execute_result",
          "data": {
            "text/plain": [
              "((10000, 150, 150, 3), (1000, 150, 150, 3))"
            ]
          },
          "metadata": {
            "tags": []
          },
          "execution_count": 8
        }
      ]
    },
    {
      "metadata": {
        "id": "DY3XNbzJ1wVF",
        "colab_type": "code",
        "outputId": "794d44ad-8c98-4095-cfe0-eb993bf60502",
        "colab": {
          "base_uri": "https://localhost:8080/",
          "height": 34
        }
      },
      "cell_type": "code",
      "source": [
        "from sklearn.model_selection import train_test_split\n",
        "\n",
        "# Here I split original training data to sub-training (80%) and validation data (20%)\n",
        "x_train, x_val, y_train, y_val = train_test_split(x_train, y_train, test_size=0.2, random_state=13)\n",
        "\n",
        "# Check the data size whether it is as per tensorflow and VGG19 requirement\n",
        "x_train.shape, x_val.shape, y_train.shape, y_val.shape"
      ],
      "execution_count": 0,
      "outputs": [
        {
          "output_type": "execute_result",
          "data": {
            "text/plain": [
              "((8000, 150, 150, 3), (2000, 150, 150, 3), (8000, 10), (2000, 10))"
            ]
          },
          "metadata": {
            "tags": []
          },
          "execution_count": 9
        }
      ]
    },
    {
      "metadata": {
        "id": "krWwcuR80e-A",
        "colab_type": "code",
        "colab": {}
      },
      "cell_type": "code",
      "source": [
        "# Normalise the data and change data type\n",
        "x_train = x_train.astype('float32')\n",
        "x_train /= 255\n",
        "\n",
        "x_test = x_test.astype('float32')\n",
        "x_test /= 255"
      ],
      "execution_count": 0,
      "outputs": []
    },
    {
      "metadata": {
        "id": "KWGKfK8DyHRg",
        "colab_type": "code",
        "outputId": "df939cd0-8fcf-4b4e-b1ad-49562dc3fba2",
        "colab": {
          "base_uri": "https://localhost:8080/",
          "height": 963
        }
      },
      "cell_type": "code",
      "source": [
        "# Create the base model of VGG19\n",
        "vgg19 = VGG19(weights='imagenet', include_top=False, input_shape = (150, 150, 3), classes = 10)\n",
        "vgg19.summary()"
      ],
      "execution_count": 0,
      "outputs": [
        {
          "output_type": "stream",
          "text": [
            "WARNING:tensorflow:From /usr/local/lib/python3.6/dist-packages/tensorflow/python/framework/op_def_library.py:263: colocate_with (from tensorflow.python.framework.ops) is deprecated and will be removed in a future version.\n",
            "Instructions for updating:\n",
            "Colocations handled automatically by placer.\n",
            "_________________________________________________________________\n",
            "Layer (type)                 Output Shape              Param #   \n",
            "=================================================================\n",
            "input_1 (InputLayer)         (None, 150, 150, 3)       0         \n",
            "_________________________________________________________________\n",
            "block1_conv1 (Conv2D)        (None, 150, 150, 64)      1792      \n",
            "_________________________________________________________________\n",
            "block1_conv2 (Conv2D)        (None, 150, 150, 64)      36928     \n",
            "_________________________________________________________________\n",
            "block1_pool (MaxPooling2D)   (None, 75, 75, 64)        0         \n",
            "_________________________________________________________________\n",
            "block2_conv1 (Conv2D)        (None, 75, 75, 128)       73856     \n",
            "_________________________________________________________________\n",
            "block2_conv2 (Conv2D)        (None, 75, 75, 128)       147584    \n",
            "_________________________________________________________________\n",
            "block2_pool (MaxPooling2D)   (None, 37, 37, 128)       0         \n",
            "_________________________________________________________________\n",
            "block3_conv1 (Conv2D)        (None, 37, 37, 256)       295168    \n",
            "_________________________________________________________________\n",
            "block3_conv2 (Conv2D)        (None, 37, 37, 256)       590080    \n",
            "_________________________________________________________________\n",
            "block3_conv3 (Conv2D)        (None, 37, 37, 256)       590080    \n",
            "_________________________________________________________________\n",
            "block3_conv4 (Conv2D)        (None, 37, 37, 256)       590080    \n",
            "_________________________________________________________________\n",
            "block3_pool (MaxPooling2D)   (None, 18, 18, 256)       0         \n",
            "_________________________________________________________________\n",
            "block4_conv1 (Conv2D)        (None, 18, 18, 512)       1180160   \n",
            "_________________________________________________________________\n",
            "block4_conv2 (Conv2D)        (None, 18, 18, 512)       2359808   \n",
            "_________________________________________________________________\n",
            "block4_conv3 (Conv2D)        (None, 18, 18, 512)       2359808   \n",
            "_________________________________________________________________\n",
            "block4_conv4 (Conv2D)        (None, 18, 18, 512)       2359808   \n",
            "_________________________________________________________________\n",
            "block4_pool (MaxPooling2D)   (None, 9, 9, 512)         0         \n",
            "_________________________________________________________________\n",
            "block5_conv1 (Conv2D)        (None, 9, 9, 512)         2359808   \n",
            "_________________________________________________________________\n",
            "block5_conv2 (Conv2D)        (None, 9, 9, 512)         2359808   \n",
            "_________________________________________________________________\n",
            "block5_conv3 (Conv2D)        (None, 9, 9, 512)         2359808   \n",
            "_________________________________________________________________\n",
            "block5_conv4 (Conv2D)        (None, 9, 9, 512)         2359808   \n",
            "_________________________________________________________________\n",
            "block5_pool (MaxPooling2D)   (None, 4, 4, 512)         0         \n",
            "=================================================================\n",
            "Total params: 20,024,384\n",
            "Trainable params: 20,024,384\n",
            "Non-trainable params: 0\n",
            "_________________________________________________________________\n"
          ],
          "name": "stdout"
        }
      ]
    },
    {
      "metadata": {
        "id": "yxtEyL_jSeho",
        "colab_type": "code",
        "colab": {}
      },
      "cell_type": "code",
      "source": [
        "from keras.utils import plot_model\n",
        "plot_model(vgg19, to_file='vgg19_model_plot.png', show_shapes=True, show_layer_names=True)"
      ],
      "execution_count": 0,
      "outputs": []
    },
    {
      "metadata": {
        "id": "zEDIZEI1yHhJ",
        "colab_type": "code",
        "colab": {}
      },
      "cell_type": "code",
      "source": [
        "from keras.applications.vgg19 import preprocess_input\n",
        "\n",
        "# Preprocessing the input \n",
        "x_train = preprocess_input(x_train)\n",
        "x_val = preprocess_input(x_val)\n",
        "x_test = preprocess_input(x_test)"
      ],
      "execution_count": 0,
      "outputs": []
    },
    {
      "metadata": {
        "id": "u5oUV9lhyHjT",
        "colab_type": "code",
        "outputId": "37a34e81-27cb-4b77-8938-8898a7be7d7e",
        "colab": {
          "base_uri": "https://localhost:8080/",
          "height": 68
        }
      },
      "cell_type": "code",
      "source": [
        "train_features = vgg19.predict(np.array(x_train), batch_size=256, verbose=1)\n",
        "test_features = vgg19.predict(np.array(x_test), batch_size=256, verbose=1)\n",
        "val_features = vgg19.predict(np.array(x_val), batch_size=256, verbose=1)"
      ],
      "execution_count": 0,
      "outputs": [
        {
          "output_type": "stream",
          "text": [
            "8000/8000 [==============================] - 55s 7ms/step\n",
            "1000/1000 [==============================] - 13s 13ms/step\n",
            "2000/2000 [==============================] - 18s 9ms/step\n"
          ],
          "name": "stdout"
        }
      ]
    },
    {
      "metadata": {
        "id": "TUGFe4SoyHf-",
        "colab_type": "code",
        "colab": {}
      },
      "cell_type": "code",
      "source": [
        "# Saving the features so that they can be used for future\n",
        "np.savez(\"train_features\", train_features, y_train)\n",
        "np.savez(\"test_features\", test_features, y_test)\n",
        "np.savez(\"val_features\", val_features, y_val)"
      ],
      "execution_count": 0,
      "outputs": []
    },
    {
      "metadata": {
        "id": "cGWfDKwrbtUh",
        "colab_type": "code",
        "outputId": "c7347ffa-b82a-4b45-b714-8ca1285ba5bc",
        "colab": {
          "base_uri": "https://localhost:8080/",
          "height": 68
        }
      },
      "cell_type": "code",
      "source": [
        "print(train_features.shape, \"\\n\",  test_features.shape, \"\\n\", val_features.shape)\n"
      ],
      "execution_count": 0,
      "outputs": [
        {
          "output_type": "stream",
          "text": [
            "(8000, 4, 4, 512) \n",
            " (1000, 4, 4, 512) \n",
            " (2000, 4, 4, 512)\n"
          ],
          "name": "stdout"
        }
      ]
    },
    {
      "metadata": {
        "id": "pq87k0y9btW5",
        "colab_type": "code",
        "colab": {}
      },
      "cell_type": "code",
      "source": [
        "# Flatten extracted features\n",
        "train_features = np.reshape(train_features, (8000, 4*4*512))\n",
        "test_features = np.reshape(test_features, (1000, 4*4*512))\n",
        "val_features = np.reshape(val_features, (2000, 4*4*512))"
      ],
      "execution_count": 0,
      "outputs": []
    },
    {
      "metadata": {
        "id": "wkf4Pibybtbi",
        "colab_type": "code",
        "colab": {}
      },
      "cell_type": "code",
      "source": [
        "from keras.layers import Dense, Dropout\n",
        "from keras.models import Model\n",
        "from keras import models\n",
        "from keras import layers\n",
        "from keras import optimizers\n",
        "\n",
        "# Add Dense and Dropout layers on top of VGG19 pre-trained\n",
        "model = models.Sequential()\n",
        "model.add(layers.Dense(512, activation='relu', input_dim=(4*4*512)))\n",
        "model.add(layers.LeakyReLU(alpha=0.1))\n",
        "model.add(layers.Dense(10, activation='softmax'))"
      ],
      "execution_count": 0,
      "outputs": []
    },
    {
      "metadata": {
        "id": "jCPajyxUbtgE",
        "colab_type": "code",
        "colab": {}
      },
      "cell_type": "code",
      "source": [
        "# Compile the model\n",
        "model.compile(loss=keras.losses.categorical_crossentropy,\n",
        "              optimizer=keras.optimizers.Adam(),\n",
        "              metrics=['accuracy'])"
      ],
      "execution_count": 0,
      "outputs": []
    },
    {
      "metadata": {
        "id": "oPRycd3Tbtad",
        "colab_type": "code",
        "outputId": "5ea3e534-1c22-4b77-ebb4-5b593813e109",
        "colab": {
          "base_uri": "https://localhost:8080/",
          "height": 68
        }
      },
      "cell_type": "code",
      "source": [
        "# !pip install tensorboardcolab\n",
        "from tensorboardcolab import TensorBoardColab, TensorBoardColabCallback\n",
        "\n",
        "tbc=TensorBoardColab()"
      ],
      "execution_count": 0,
      "outputs": [
        {
          "output_type": "stream",
          "text": [
            "Wait for 8 seconds...\n",
            "TensorBoard link:\n",
            "https://b3e7f93f.ngrok.io\n"
          ],
          "name": "stdout"
        }
      ]
    },
    {
      "metadata": {
        "id": "nyRQz7eGeeI7",
        "colab_type": "code",
        "colab": {}
      },
      "cell_type": "code",
      "source": [
        "from keras.utils import plot_model\n",
        "plot_model(model, to_file='model_plot.png', show_shapes=True, show_layer_names=True)"
      ],
      "execution_count": 0,
      "outputs": []
    },
    {
      "metadata": {
        "id": "LuE0s9gMbteR",
        "colab_type": "code",
        "outputId": "93cf16fe-5ecf-46a5-e4e5-740639756c13",
        "colab": {
          "base_uri": "https://localhost:8080/",
          "height": 1837
        }
      },
      "cell_type": "code",
      "source": [
        "model.fit(train_features, y_train,\n",
        "          batch_size=256,\n",
        "          epochs=50,\n",
        "          verbose=1,\n",
        "          validation_data=(val_features, y_val),\n",
        "          callbacks = [TensorBoardColabCallback(tbc)])"
      ],
      "execution_count": 0,
      "outputs": [
        {
          "output_type": "stream",
          "text": [
            "WARNING:tensorflow:From /usr/local/lib/python3.6/dist-packages/tensorflow/python/ops/math_ops.py:3066: to_int32 (from tensorflow.python.ops.math_ops) is deprecated and will be removed in a future version.\n",
            "Instructions for updating:\n",
            "Use tf.cast instead.\n",
            "Train on 8000 samples, validate on 2000 samples\n",
            "Epoch 1/50\n",
            "8000/8000 [==============================] - 1s 186us/step - loss: 3.5791 - acc: 0.1984 - val_loss: 11.7687 - val_acc: 0.1125\n",
            "Epoch 2/50\n",
            "8000/8000 [==============================] - 1s 77us/step - loss: 3.1158 - acc: 0.3890 - val_loss: 13.1134 - val_acc: 0.1095\n",
            "Epoch 3/50\n",
            "8000/8000 [==============================] - 1s 74us/step - loss: 2.9163 - acc: 0.4662 - val_loss: 13.4535 - val_acc: 0.1095\n",
            "Epoch 4/50\n",
            "8000/8000 [==============================] - 1s 73us/step - loss: 2.7456 - acc: 0.5349 - val_loss: 13.5678 - val_acc: 0.1100\n",
            "Epoch 5/50\n",
            "8000/8000 [==============================] - 1s 69us/step - loss: 2.6479 - acc: 0.5593 - val_loss: 13.4752 - val_acc: 0.1100\n",
            "Epoch 6/50\n",
            "8000/8000 [==============================] - 1s 72us/step - loss: 2.5854 - acc: 0.5704 - val_loss: 13.6348 - val_acc: 0.1095\n",
            "Epoch 7/50\n",
            "8000/8000 [==============================] - 1s 69us/step - loss: 2.5228 - acc: 0.5876 - val_loss: 13.5204 - val_acc: 0.1125\n",
            "Epoch 8/50\n",
            "8000/8000 [==============================] - 1s 71us/step - loss: 2.4752 - acc: 0.6079 - val_loss: 13.3685 - val_acc: 0.1155\n",
            "Epoch 9/50\n",
            "8000/8000 [==============================] - 1s 71us/step - loss: 2.4556 - acc: 0.6009 - val_loss: 13.3571 - val_acc: 0.1175\n",
            "Epoch 10/50\n",
            "8000/8000 [==============================] - 1s 71us/step - loss: 2.4475 - acc: 0.5954 - val_loss: 13.2926 - val_acc: 0.1190\n",
            "Epoch 11/50\n",
            "8000/8000 [==============================] - 1s 69us/step - loss: 2.3801 - acc: 0.6339 - val_loss: 13.1786 - val_acc: 0.1230\n",
            "Epoch 12/50\n",
            "8000/8000 [==============================] - 1s 70us/step - loss: 2.3793 - acc: 0.6284 - val_loss: 13.2931 - val_acc: 0.1225\n",
            "Epoch 13/50\n",
            "8000/8000 [==============================] - 1s 70us/step - loss: 2.3601 - acc: 0.6355 - val_loss: 13.2685 - val_acc: 0.1235\n",
            "Epoch 14/50\n",
            "8000/8000 [==============================] - 1s 71us/step - loss: 2.3352 - acc: 0.6399 - val_loss: 13.2147 - val_acc: 0.1270\n",
            "Epoch 15/50\n",
            "8000/8000 [==============================] - 1s 71us/step - loss: 2.3261 - acc: 0.6460 - val_loss: 13.2051 - val_acc: 0.1255\n",
            "Epoch 16/50\n",
            "8000/8000 [==============================] - 1s 68us/step - loss: 2.3464 - acc: 0.6254 - val_loss: 13.1953 - val_acc: 0.1265\n",
            "Epoch 17/50\n",
            "8000/8000 [==============================] - 1s 70us/step - loss: 2.3403 - acc: 0.6314 - val_loss: 13.1921 - val_acc: 0.1275\n",
            "Epoch 18/50\n",
            "8000/8000 [==============================] - 1s 69us/step - loss: 2.2944 - acc: 0.6555 - val_loss: 13.1302 - val_acc: 0.1285\n",
            "Epoch 19/50\n",
            "8000/8000 [==============================] - 1s 71us/step - loss: 2.2846 - acc: 0.6581 - val_loss: 13.2576 - val_acc: 0.1270\n",
            "Epoch 20/50\n",
            "8000/8000 [==============================] - 1s 68us/step - loss: 2.2690 - acc: 0.6637 - val_loss: 13.1899 - val_acc: 0.1280\n",
            "Epoch 21/50\n",
            "8000/8000 [==============================] - 1s 71us/step - loss: 2.2715 - acc: 0.6559 - val_loss: 13.2031 - val_acc: 0.1285\n",
            "Epoch 22/50\n",
            "8000/8000 [==============================] - 1s 70us/step - loss: 2.2696 - acc: 0.6607 - val_loss: 13.1871 - val_acc: 0.1325\n",
            "Epoch 23/50\n",
            "8000/8000 [==============================] - 1s 70us/step - loss: 2.2343 - acc: 0.6787 - val_loss: 13.2525 - val_acc: 0.1310\n",
            "Epoch 24/50\n",
            "8000/8000 [==============================] - 1s 69us/step - loss: 2.2501 - acc: 0.6643 - val_loss: 13.2215 - val_acc: 0.1330\n",
            "Epoch 25/50\n",
            "8000/8000 [==============================] - 1s 69us/step - loss: 2.2335 - acc: 0.6727 - val_loss: 13.2536 - val_acc: 0.1330\n",
            "Epoch 26/50\n",
            "8000/8000 [==============================] - 1s 70us/step - loss: 2.2378 - acc: 0.6697 - val_loss: 13.2554 - val_acc: 0.1330\n",
            "Epoch 27/50\n",
            "8000/8000 [==============================] - 1s 69us/step - loss: 2.2453 - acc: 0.6704 - val_loss: 13.2897 - val_acc: 0.1325\n",
            "Epoch 28/50\n",
            "8000/8000 [==============================] - 1s 69us/step - loss: 2.2173 - acc: 0.6831 - val_loss: 13.3022 - val_acc: 0.1315\n",
            "Epoch 29/50\n",
            "8000/8000 [==============================] - 1s 70us/step - loss: 2.2068 - acc: 0.6830 - val_loss: 13.3166 - val_acc: 0.1325\n",
            "Epoch 30/50\n",
            "8000/8000 [==============================] - 1s 69us/step - loss: 2.2010 - acc: 0.6850 - val_loss: 13.3283 - val_acc: 0.1315\n",
            "Epoch 31/50\n",
            "8000/8000 [==============================] - 1s 68us/step - loss: 2.2015 - acc: 0.6839 - val_loss: 13.3798 - val_acc: 0.1315\n",
            "Epoch 32/50\n",
            "8000/8000 [==============================] - 1s 69us/step - loss: 2.1959 - acc: 0.6860 - val_loss: 13.3473 - val_acc: 0.1310\n",
            "Epoch 33/50\n",
            "8000/8000 [==============================] - 1s 67us/step - loss: 2.2106 - acc: 0.6800 - val_loss: 13.3618 - val_acc: 0.1305\n",
            "Epoch 34/50\n",
            "8000/8000 [==============================] - 1s 70us/step - loss: 2.2132 - acc: 0.6823 - val_loss: 13.3899 - val_acc: 0.1315\n",
            "Epoch 35/50\n",
            "8000/8000 [==============================] - 1s 71us/step - loss: 2.1867 - acc: 0.6900 - val_loss: 13.4062 - val_acc: 0.1305\n",
            "Epoch 36/50\n",
            "8000/8000 [==============================] - 1s 71us/step - loss: 2.1904 - acc: 0.6895 - val_loss: 13.3963 - val_acc: 0.1300\n",
            "Epoch 37/50\n",
            "8000/8000 [==============================] - 1s 68us/step - loss: 2.2136 - acc: 0.6766 - val_loss: 13.3997 - val_acc: 0.1305\n",
            "Epoch 38/50\n",
            "8000/8000 [==============================] - 1s 73us/step - loss: 2.1768 - acc: 0.6985 - val_loss: 13.3905 - val_acc: 0.1295\n",
            "Epoch 39/50\n",
            "8000/8000 [==============================] - 1s 70us/step - loss: 2.1911 - acc: 0.6853 - val_loss: 13.4108 - val_acc: 0.1280\n",
            "Epoch 40/50\n",
            "8000/8000 [==============================] - 1s 72us/step - loss: 2.1870 - acc: 0.6863 - val_loss: 13.4292 - val_acc: 0.1280\n",
            "Epoch 41/50\n",
            "8000/8000 [==============================] - 1s 69us/step - loss: 2.1796 - acc: 0.6894 - val_loss: 13.4366 - val_acc: 0.1285\n",
            "Epoch 42/50\n",
            "8000/8000 [==============================] - 1s 67us/step - loss: 2.1761 - acc: 0.6933 - val_loss: 13.4513 - val_acc: 0.1285\n",
            "Epoch 43/50\n",
            "8000/8000 [==============================] - 1s 68us/step - loss: 1.3936 - acc: 0.6651 - val_loss: 13.3794 - val_acc: 0.1270\n",
            "Epoch 44/50\n",
            "8000/8000 [==============================] - 1s 68us/step - loss: 0.8213 - acc: 0.6911 - val_loss: 13.4073 - val_acc: 0.1300\n",
            "Epoch 45/50\n",
            "8000/8000 [==============================] - 1s 71us/step - loss: 0.7726 - acc: 0.7206 - val_loss: 13.3949 - val_acc: 0.1295\n",
            "Epoch 46/50\n",
            "8000/8000 [==============================] - 1s 68us/step - loss: 0.7806 - acc: 0.7056 - val_loss: 13.4661 - val_acc: 0.1275\n",
            "Epoch 47/50\n",
            "8000/8000 [==============================] - 1s 68us/step - loss: 0.7498 - acc: 0.7290 - val_loss: 13.4456 - val_acc: 0.1280\n",
            "Epoch 48/50\n",
            "8000/8000 [==============================] - 1s 67us/step - loss: 0.7328 - acc: 0.7390 - val_loss: 13.4710 - val_acc: 0.1270\n",
            "Epoch 49/50\n",
            "8000/8000 [==============================] - 1s 70us/step - loss: 0.7092 - acc: 0.7496 - val_loss: 13.4539 - val_acc: 0.1275\n",
            "Epoch 50/50\n",
            "8000/8000 [==============================] - 1s 68us/step - loss: 0.7146 - acc: 0.7420 - val_loss: 13.4560 - val_acc: 0.1280\n"
          ],
          "name": "stdout"
        },
        {
          "output_type": "execute_result",
          "data": {
            "text/plain": [
              "<keras.callbacks.History at 0x7f9f7d65f6a0>"
            ]
          },
          "metadata": {
            "tags": []
          },
          "execution_count": 21
        }
      ]
    },
    {
      "metadata": {
        "id": "lTEz_x9HiycF",
        "colab_type": "code",
        "outputId": "5985db7e-19ab-4693-8357-dc923f7cfb73",
        "colab": {
          "base_uri": "https://localhost:8080/",
          "height": 51
        }
      },
      "cell_type": "code",
      "source": [
        "score = model.evaluate(test_features, y_test, verbose=0)\n",
        "print('Test loss:', score[0])\n",
        "print('Test accuracy:', score[1])"
      ],
      "execution_count": 0,
      "outputs": [
        {
          "output_type": "stream",
          "text": [
            "Test loss: 0.7136822395324707\n",
            "Test accuracy: 0.75\n"
          ],
          "name": "stdout"
        }
      ]
    },
    {
      "metadata": {
        "id": "8_bEXLnoq0Fb",
        "colab_type": "code",
        "colab": {}
      },
      "cell_type": "code",
      "source": [
        "# get the predictions for the test data\n",
        "predicted_classes = model.predict_classes(test_features)\n",
        "\n",
        "# get the indices to be plotted\n",
        "y_true = test_df[0:1000].iloc[:, 0]\n",
        "correct = np.nonzero(predicted_classes==y_true)[0]\n",
        "incorrect = np.nonzero(predicted_classes!=y_true)[0]"
      ],
      "execution_count": 0,
      "outputs": []
    },
    {
      "metadata": {
        "id": "i-Zgqa4jq2fS",
        "colab_type": "code",
        "outputId": "b0c213ab-9ace-4a8e-a90b-e1ab1cd48f6e",
        "colab": {
          "base_uri": "https://localhost:8080/",
          "height": 308
        }
      },
      "cell_type": "code",
      "source": [
        "from sklearn.metrics import classification_report\n",
        "target_names = [\"Class {}\".format(i) for i in range(10)]\n",
        "print(classification_report(y_true, predicted_classes, target_names=target_names))"
      ],
      "execution_count": 0,
      "outputs": [
        {
          "output_type": "stream",
          "text": [
            "              precision    recall  f1-score   support\n",
            "\n",
            "     Class 0       0.77      0.78      0.77        98\n",
            "     Class 1       0.89      0.92      0.91        89\n",
            "     Class 2       0.79      0.31      0.44       111\n",
            "     Class 3       0.76      0.83      0.79       104\n",
            "     Class 4       0.63      0.53      0.58        96\n",
            "     Class 5       0.79      0.88      0.83        97\n",
            "     Class 6       0.42      0.73      0.53       100\n",
            "     Class 7       0.89      0.77      0.83       102\n",
            "     Class 8       0.93      0.92      0.92        98\n",
            "     Class 9       0.90      0.90      0.90       105\n",
            "\n",
            "   micro avg       0.75      0.75      0.75      1000\n",
            "   macro avg       0.78      0.76      0.75      1000\n",
            "weighted avg       0.78      0.75      0.75      1000\n",
            "\n"
          ],
          "name": "stdout"
        }
      ]
    }
  ]
}